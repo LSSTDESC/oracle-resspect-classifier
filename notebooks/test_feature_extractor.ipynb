{
 "cells": [
  {
   "cell_type": "code",
   "execution_count": null,
   "id": "4c28f2b4",
   "metadata": {},
   "outputs": [],
   "source": [
    "import sys\n",
    "import os\n",
    "sys.path.insert(0, os.path.abspath(os.path.join(os.getcwd(), '../src')))\n",
    "\n",
    "import resspect\n",
    "from resspect.tom_client import TomClient\n",
    "from oracle_resspect_classifier.elasticc2_oracle_feature_extractor import ELAsTiCC2_ORACLEFeatureExtractor"
   ]
  },
  {
   "cell_type": "code",
   "execution_count": null,
   "id": "322964f2",
   "metadata": {},
   "outputs": [],
   "source": [
    "import itertools\n",
    "\n",
    "# code to grab objects from TOM for testing - not the most optimal way to do this but a good check for whether the feature extractor is doing its job\n",
    "username = 'arjun15'\n",
    "passwordfile = '../../oracle/passwordfile'\n",
    "\n",
    "detected_in_last_days = 1\n",
    "mjd_now = 60800\n",
    "num_objects = 5\n",
    "\n",
    "\n",
    "tom = TomClient(url=\"https://desc-tom-2.lbl.gov\", username=username, passwordfile=passwordfile)\n",
    "\n",
    "dic = {\n",
    "    'detected_in_last_days': detected_in_last_days,\n",
    "    'mjd_now': mjd_now\n",
    "}\n",
    "\n",
    "res = tom.post('elasticc2/gethottransients', json=dic)\n",
    "data = res.json() if res.status_code == 200 else {}\n",
    "print('=> Fetched hot transients')\n",
    "\n",
    "ids = [obj['objectid'] for obj in data['diaobject']]\n",
    "ids = ids[:num_objects] if len(ids) > num_objects else ids\n",
    "\n",
    "# using these object ids, load in static and time series data for ORACLE\n",
    "static = tom.post('db/runsqlquery/',\n",
    "                json={'query': '''SELECT diaobject_id, ra, decl, mwebv, mwebv_err, z_final, z_final_err, hostgal_zphot, hostgal_zphot_err,\n",
    "                hostgal_zspec, hostgal_zspec_err, hostgal_ra, hostgal_dec, hostgal_snsep, hostgal_ellipticity, hostgal_mag_u,\n",
    "                hostgal_mag_g, hostgal_mag_r, hostgal_mag_i, hostgal_mag_z, hostgal_mag_y FROM elasticc2_ppdbdiaobject WHERE diaobject_id IN (%s) ORDER BY diaobject_id;''' % (', '.join(str(id) for id in ids)),\n",
    "                    'subdict': {}})\n",
    "static_data = static.json() if static.status_code == 200 else {}\n",
    "print('=> Loaded static data...')\n",
    "\n",
    "ts = tom.post('db/runsqlquery/',\n",
    "                json={'query': 'SELECT diaobject_id, midpointtai, filtername, psflux, psfluxerr FROM elasticc2_ppdbdiaforcedsource WHERE diaobject_id IN (%s) ORDER BY diaobject_id;' % (', '.join(str(id) for id in ids)),\n",
    "                    'subdict': {}})\n",
    "ts_data = ts.json() if ts.status_code == 200 else {}\n",
    "print('=> Loaded time-series data...') \n",
    "\n",
    "assert ts_data['status'] == 'ok', 'Failed to retrieve data from TOM!'\n",
    "\n",
    "# for each object, sort all observations by MJD\n",
    "ts_data['rows'].sort(key=lambda obs: obs['diaobject_id'])\n",
    "grouped_ts_data = {snid: list(obj) for snid, obj in itertools.groupby(ts_data['rows'], key=lambda obs: obs['diaobject_id'])}\n",
    "\n",
    "for observation in grouped_ts_data.values():\n",
    "    observation.sort(key=lambda obs: obs['midpointtai'])\n",
    "\n",
    "print(ts_data)\n",
    "print(static_data)"
   ]
  }
 ],
 "metadata": {
  "kernelspec": {
   "display_name": "resspect_py312",
   "language": "python",
   "name": "python3"
  },
  "language_info": {
   "codemirror_mode": {
    "name": "ipython",
    "version": 3
   },
   "file_extension": ".py",
   "mimetype": "text/x-python",
   "name": "python",
   "nbconvert_exporter": "python",
   "pygments_lexer": "ipython3",
   "version": "3.12.12"
  }
 },
 "nbformat": 4,
 "nbformat_minor": 5
}
